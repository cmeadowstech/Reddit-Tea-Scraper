{
 "cells": [
  {
   "cell_type": "code",
   "execution_count": 1,
   "metadata": {},
   "outputs": [],
   "source": [
    "import pandas as pd\n",
    "df = pd.read_csv('urls_top20.csv',sep=',')"
   ]
  },
  {
   "cell_type": "code",
   "execution_count": 2,
   "metadata": {},
   "outputs": [],
   "source": [
    "from ipyvizzu import Chart, Data, Config, Style\n",
    "data = Data()\n",
    "data.add_data_frame(df)\n",
    "\n",
    "# Count varieties and add them to a new data set\n",
    "\n",
    "v_list = df['Varieties'].str.split(',').explode().value_counts()\n",
    "varieties = Data()\n",
    "varieties.add_data_frame(pd.DataFrame({\"variety\": ['Black','Green','White','Oolong','Pu-Erh','Herbal','Matcha','Blends','Yellow','Purple']}))\n",
    "varieties.add_data_frame(v_list)\n"
   ]
  },
  {
   "cell_type": "code",
   "execution_count": 3,
   "metadata": {},
   "outputs": [
    {
     "data": {
      "application/javascript": "if (!window.IpyVizzu) {\n    class IpyVizzu \n    {\n        constructor()\n        {\n            IpyVizzu.inhibitScroll = false;\n            IpyVizzu.nbconvert = false;\n            document.addEventListener('wheel', (evt) => { IpyVizzu.inhibitScroll = true }, true);\n            document.addEventListener('keydown', (evt) => { IpyVizzu.inhibitScroll = true }, true);\n            document.addEventListener('touchstart', (evt) => { IpyVizzu.inhibitScroll = true }, true);\n\n            this.elements = {};\n            this.charts = {};\n            \n            this.snapshots = {};\n            this.displays = {};\n\n            this.events = {};\n            this.loaded = {};\n            this.libs = {};\n        }\n\n        static clearInhibitScroll(element)\n        {\n            if (IpyVizzu.nbconvert) IpyVizzu._hide(element);\n            IpyVizzu.inhibitScroll = false;\n        }\n\n        createChart(element, chartId, vizzulib, divWidth, divHeight) {\n            this.elements[chartId] = document.createElement(\"div\");\n            this.elements[chartId].style.cssText = `width: ${divWidth}; height: ${divHeight};`;\n            this.loaded[chartId] = import(vizzulib);\n            this.charts[chartId] = this.loaded[chartId].then(Vizzu => {\n                this.libs[chartId] = Vizzu.default;\n                return new Vizzu.default(this.elements[chartId]).initializing\n            });\n            this._moveHere(chartId, element);\n        }\n\n        animate(element, chartId, displayTarget, scrollEnabled, getChartTarget, chartAnimOpts)\n        {\n            if (IpyVizzu.nbconvert) IpyVizzu._hide(element);\n            if (displayTarget === 'end') this._moveHere(chartId, element);\n            this.charts[chartId] = this.charts[chartId].then(chart => {\n                if (displayTarget === 'actual') this._moveHere(chartId, element);\n                this._scroll(chartId, scrollEnabled);\n                let chartTarget = getChartTarget(this.libs[chartId]);\n                if (typeof chartTarget === 'string') chartTarget = this.snapshots[chartTarget];\n                return chart.animate(chartTarget, chartAnimOpts);\n            });\n        }\n\n        store(element, chartId, id)\n        {\n            if (IpyVizzu.nbconvert) IpyVizzu._hide(element);\n            this.charts[chartId] = this.charts[chartId].then(chart => {\n                this.snapshots[id] = chart.store();\n                return chart;\n            });\n        }\n\n        feature(element, chartId, name, enabled)\n        {\n            if (IpyVizzu.nbconvert) IpyVizzu._hide(element);\n            this.charts[chartId] = this.charts[chartId].then(chart => {\n                chart.feature(name, enabled);\n                return chart;\n            });\n        }\n\n        setEvent(element, chartId, id, event, handler)\n        {\n            if (IpyVizzu.nbconvert) IpyVizzu._hide(element);\n            this.charts[chartId] = this.charts[chartId].then(chart => {\n                this.events[id] = handler;\n                chart.on(event, this.events[id]);\n                return chart;\n            });\n        }\n\n        clearEvent(element, chartId, id, event)\n        {\n            if (IpyVizzu.nbconvert) IpyVizzu._hide(element);\n            this.charts[chartId] = this.charts[chartId].then(chart => {\n                chart.off(event, this.events[id]);\n                return chart;\n            });\n        }\n\n        log(element, chartId, chartProperty)\n        {\n            if (IpyVizzu.nbconvert) IpyVizzu._hide(element);\n            this.charts[chartId] = this.charts[chartId].then(chart => {\n                console.log(chart[chartProperty])\n                return chart;\n            });\n        }\n\n        _moveHere(chartId, element)\n        {\n            if (IpyVizzu.nbconvert) IpyVizzu._display(this.elements[chartId], element);\n            element.append(this.elements[chartId]);\n        }\n\n        _scroll(chartId, enabled)\n        {\n            if (!IpyVizzu.inhibitScroll && enabled) {\n                this.elements[chartId].scrollIntoView({ behavior: \"auto\", block: \"center\" });\n            }\n        }\n\n        static _hide(element) {\n            document.getElementById(element.selector.substring(1)).parentNode.style.display = 'none';\n        }\n\n        static _display(prevElement, element) {\n            if (prevElement.parentNode) {\n                prevElement.parentNode.style.display = \"none\";\n            }\n            document.getElementById(element.selector.substring(1)).parentNode.style.display = 'flex';\n            document.getElementById(element.selector.substring(1)).parentNode.style.margin = 'auto';\n        }\n    }\n\n    window.IpyVizzu = IpyVizzu;\n    window.ipyvizzu = new window.IpyVizzu();\n}"
     },
     "metadata": {},
     "output_type": "display_data"
    },
    {
     "data": {
      "application/javascript": "window.ipyvizzu.createChart(element, '9e4b1b0', 'https://cdn.jsdelivr.net/npm/vizzu@~0.6.0/dist/vizzu.min.js', '800px', '550px');"
     },
     "metadata": {},
     "output_type": "display_data"
    },
    {
     "data": {
      "application/javascript": "window.ipyvizzu.animate(element, '9e4b1b0', 'actual', false, lib => { return {\"data\": {\"series\": [{\"name\": \"Vendor\", \"type\": \"dimension\", \"values\": [\"yunnansourcing.com\", \"tezumi.com\", \"yunnansourcing.us\", \"adagio.com\", \"harney.com\", \"white2tea.com\", \"yunomi.life\", \"teaware.house\", \"verdanttea.com\", \"meileaf.com\", \"uptontea.com\", \"bitterleafteas.com\", \"ippodotea.com\", \"camellia-sinensis.com\", \"teasenz.com\", \"teavivre.com\", \"redblossomtea.com\", \"mudandleaves.com\", \"artisticnippon.com\", \"mountainstreamteas.com\"]}, {\"name\": \"Count\", \"type\": \"measure\", \"values\": [440.0, 246.0, 209.0, 199.0, 187.0, 149.0, 138.0, 131.0, 101.0, 96.0, 82.0, 81.0, 81.0, 78.0, 74.0, 65.0, 56.0, 48.0, 47.0, 45.0]}, {\"name\": \"Varieties\", \"type\": \"dimension\", \"values\": [\"Pu-Erh,Black,White,Purple,Herbal,Green\", \"Green,Black,White,Oolong\", \"Pu-Erh,Black,White,Purple,Herbal,Green\", \"Blends,Black,Oolong,White,Green,Herbal,Pu-Erh,Matcha\", \"Green,Oolong,Black,Herbal,Matcha\", \"Pu-Erh,Black,White,Oolong\", \"Green,Matcha,Black,Oolong\", \"\", \"Green,Black,Oolong,Pu-Erh,White,Herbal,Blends\", \"White,Green,Matcha,Yellow,Oolong,Black,Pu-Erh,Herbal\", \"Green,Black,Oolong,White,Herbal,Pu-Erh,Matcha\", \"Pu-Erh,White,Yellow,Black,Oolong\", \"Green,Matcha\", \"White,Yellow,Green,Black,Pu-Erh,Herbal,Blends,Oolong\", \"Pu-Erh,Green,White,Oolong,Black,Herbal\", \"Green,Black,White,Oolong,Pu-Erh,Yellow,Herbal,Blends\", \"White,Green,Oolong,Black,Pu-Erh\", \"Green,White,Pu-Erh,Oolong,Black\", \"\", \"Oolong,Black,Green,Blends,Pu-Erh,White\"]}, {\"name\": \"Variety\", \"type\": \"dimension\", \"values\": [\"Black\", \"Green\", \"White\", \"Oolong\", \"Pu-Erh\", \"Herbal\", \"Matcha\", \"Blends\", \"Yellow\", \"Purple\", \"\", \"\", \"\", \"\", \"\", \"\", \"\", \"\", \"\", \"\"]}]}} }, undefined);"
     },
     "metadata": {},
     "output_type": "display_data"
    },
    {
     "data": {
      "application/javascript": "window.ipyvizzu.animate(element, '9e4b1b0', 'actual', false, lib => { return {\"style\": {\"backgroundColor\": \"#1b2e24\", \"plot\": {\"paddingRight\": 200, \"paddingBottom\": 100, \"marker\": {\"colorPalette\": \"#A6BB8D #61876E #3C6255\", \"rectangleSpacing\": 2, \"guides\": {\"color\": \"#1b2e24\", \"lineWidth\": 0}}, \"xAxis\": {\"color\": \"#1b2e24\", \"label\": {\"color\": \"#9dad9c\"}, \"title\": {\"color\": \"#9dad9c\", \"fontFamily\": \"Roboto\", \"paddingLeft\": 150, \"paddingTop\": 50}}, \"yAxis\": {\"color\": \"#1b2e24\"}}, \"title\": {\"color\": \"#c9dbc8\", \"fontFamily\": \"Kaushan Script\", \"paddingTop\": 50}, \"logo\": {\"filter\": \"lightness(0.5)\"}}} }, undefined);"
     },
     "metadata": {},
     "output_type": "display_data"
    },
    {
     "data": {
      "application/javascript": "window.ipyvizzu.animate(element, '9e4b1b0', 'actual', false, lib => { return {\"config\": {\"y\": {\"set\": [\"Vendor\"], \"labels\": false}, \"x\": {\"set\": [\"Count\"], \"range\": {\"max\": \"0%\"}, \"title\": \"# of References on r/tea\", \"interlacing\": false}, \"color\": {\"set\": [\"Vendor\"]}, \"reverse\": true, \"title\": \"Most Popular Online Vendors 2022\"}} }, {\"duration\": 0});"
     },
     "metadata": {},
     "output_type": "display_data"
    },
    {
     "data": {
      "application/javascript": "window.ipyvizzu.animate(element, '9e4b1b0', 'actual', false, lib => { return {\"config\": {\"channels\": {\"y\": {\"set\": [\"Vendor\"], \"labels\": false}, \"x\": {\"set\": [\"Count\"], \"range\": {\"max\": \"100%\"}, \"title\": \"# of References on r/tea\", \"interlacing\": false}, \"label\": {\"attach\": [\"Vendor\"]}, \"color\": {\"set\": [\"Vendor\"]}}, \"reverse\": true, \"title\": \"Most Popular Online Vendors 2022\"}, \"style\": {\"plot\": {\"backgroundColor\": \"#1b2e24\"}}} }, {\"duration\": 5, \"easing\": \"ease\"});"
     },
     "metadata": {},
     "output_type": "display_data"
    },
    {
     "data": {
      "application/javascript": "window.ipyvizzu.animate(element, '9e4b1b0', 'actual', false, lib => { return {\"data\": {\"series\": [{\"name\": \"variety\", \"type\": \"dimension\", \"values\": [\"Black\", \"Green\", \"White\", \"Oolong\", \"Pu-Erh\", \"Herbal\", \"Matcha\", \"Blends\", \"Yellow\", \"Purple\"]}, {\"name\": \"Varieties\", \"type\": \"measure\", \"values\": [17.0, 16.0, 15.0, 15.0, 14.0, 10.0, 6.0, 5.0, 4.0, 2.0]}]}} }, undefined);"
     },
     "metadata": {},
     "output_type": "display_data"
    },
    {
     "data": {
      "application/javascript": "window.ipyvizzu.animate(element, '9e4b1b0', 'actual', false, lib => { return {\"config\": {\"channels\": {\"y\": null, \"x\": null, \"size\": {\"attach\": [\"variety\", \"Varieties\"]}, \"label\": {\"set\": [\"variety\"]}}, \"geometry\": \"circle\", \"legend\": null, \"title\": \"Most Common Offerings\"}, \"style\": {\"plot\": {\"paddingRight\": 25}}} }, {\"delay\": 2});"
     },
     "metadata": {},
     "output_type": "display_data"
    }
   ],
   "source": [
    "chart = Chart(width=\"800px\", height=\"550px\")\n",
    "chart.animate(data)\n",
    "\n",
    "chart.animate(\n",
    "    Style(\n",
    "        {\n",
    "            \"backgroundColor\": \"#1b2e24\",\n",
    "            \"plot\": {\n",
    "                \"paddingRight\": 200,\n",
    "                \"paddingBottom\": 100,\n",
    "                \"marker\": {\n",
    "                    \"colorPalette\": \"#A6BB8D #61876E #3C6255\",\n",
    "                    \"rectangleSpacing\": 2,\n",
    "                    \"guides\": {\n",
    "                        \"color\": \"#1b2e24\",\n",
    "                        \"lineWidth\": 0\n",
    "                        }   \n",
    "                    },\n",
    "                \"xAxis\": {\n",
    "                    \"color\": \"#1b2e24\",\n",
    "                    \"label\": {\n",
    "                        \"color\": \"#9dad9c\"\n",
    "                    },\n",
    "                    \"title\": {\n",
    "                        \"color\": \"#9dad9c\",\n",
    "                        \"fontFamily\": \"Roboto\",\n",
    "                        \"paddingLeft\": 150,\n",
    "                        \"paddingTop\": 50,\n",
    "                    }\n",
    "                },\n",
    "                \"yAxis\": {\n",
    "                    \"color\": \"#1b2e24\"\n",
    "                }                \n",
    "                },\n",
    "                \"title\": {\n",
    "                    \"color\": \"#c9dbc8\",\n",
    "                    \"fontFamily\": \"Kaushan Script\",\n",
    "                    \"paddingTop\": 50\n",
    "                },\n",
    "                \"logo\": {\n",
    "                    \"filter\": \"lightness(0.5)\"\n",
    "                }\n",
    "            \n",
    "            }\n",
    "        )\n",
    ")\n",
    "\n",
    "chart.animate(\n",
    "    Config(\n",
    "        {\n",
    "            \"y\": {\"set\": [\"Vendor\"],\"labels\": False},\n",
    "            \"x\": {\"set\": [\"Count\"],\"range\": { \"max\": '0%' },\"title\": \"# of References on r/tea\",\"interlacing\": False},\n",
    "            \"color\": { \"set\": [\"Vendor\"] },\n",
    "            \"reverse\": True,\n",
    "            \"title\": \"Most Popular Online Vendors 2022\"\n",
    "        }\n",
    "    ),\n",
    "    duration=0\n",
    ")\n",
    "\n",
    "chart.animate(\n",
    "    Config(\n",
    "        {\n",
    "            \"channels\": {\n",
    "                \"y\": {\"set\": [\"Vendor\"],\"labels\": False},\n",
    "                \"x\": {\"set\": [\"Count\"],\"range\": { \"max\": '100%' },\"title\": \"# of References on r/tea\",\"interlacing\": False},\n",
    "                \"label\": { \"attach\": ['Vendor']},\n",
    "                \"color\": { \"set\": [\"Vendor\"] }\n",
    "            },\n",
    "            \"reverse\": True,\n",
    "            \"title\": \"Most Popular Online Vendors 2022\"\n",
    "        }\n",
    "    ),\n",
    "    Style(\n",
    "            {\n",
    "            \"plot\": {\n",
    "                \"backgroundColor\": \"#1b2e24\"\n",
    "                }\n",
    "        }\n",
    "    ),\n",
    "    duration=5,\n",
    "    easing=\"ease\"\n",
    ")\n",
    "\n",
    "chart.animate(varieties)\n",
    "\n",
    "chart.animate(\n",
    "    Config(\n",
    "        {\n",
    "            \"channels\": {\n",
    "                \"y\": None,\n",
    "                \"x\": None,\n",
    "                \"size\": {\"attach\": [\"variety\",\"Varieties\"]},\n",
    "                \"label\": {\"set\": [\"variety\"]},\n",
    "            },\n",
    "            \"geometry\": \"circle\",\n",
    "            \"legend\": None,\n",
    "            \"title\": \"Most Common Offerings\"\n",
    "        }\n",
    "    ),\n",
    "    Style(\n",
    "        {\n",
    "            \"plot\": {\n",
    "                \"paddingRight\": 25,\n",
    "        }\n",
    "        }\n",
    "    ),\n",
    "    delay=2\n",
    ")\n"
   ]
  }
 ],
 "metadata": {
  "kernelspec": {
   "display_name": "tea",
   "language": "python",
   "name": "python3"
  },
  "language_info": {
   "codemirror_mode": {
    "name": "ipython",
    "version": 3
   },
   "file_extension": ".py",
   "mimetype": "text/x-python",
   "name": "python",
   "nbconvert_exporter": "python",
   "pygments_lexer": "ipython3",
   "version": "3.10.9"
  },
  "orig_nbformat": 4,
  "vscode": {
   "interpreter": {
    "hash": "c12351370fc8e8c1e125899e4d3137d290dda0bb6dcfd63cacdb72bc3730b19f"
   }
  }
 },
 "nbformat": 4,
 "nbformat_minor": 2
}
